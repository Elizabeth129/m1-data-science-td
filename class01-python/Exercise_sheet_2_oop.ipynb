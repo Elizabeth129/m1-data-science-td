{
 "cells": [
  {
   "cell_type": "markdown",
   "metadata": {},
   "source": [
    "# Exercise sheet \\#2\n"
   ]
  },
  {
   "cell_type": "markdown",
   "metadata": {},
   "source": [
    "## Exercise 1\n",
    "In this exercise, we will program an ATM. An ATM is a device which can deliver/receive bank notes to/from customers, depending on the amount of money they have on their bank account.\n",
    "\n",
    "### Question 1.1\n",
    "First, we will represent customers as entities whose attributes are:\n",
    "- name (str)\n",
    "- birthdate (str of the form xx/xx/xxxx)\n",
    "- account_number (str)\n",
    "- secret_code (str) made of 4 digits\n",
    "- balance (float)\n",
    "\n",
    "Define a class `Customer` together with its `__init__` method allowing users to create customers.\n"
   ]
  },
  {
   "cell_type": "code",
   "execution_count": 1,
   "metadata": {},
   "outputs": [],
   "source": [
    "class Customer:\n",
    "    def __init__(\n",
    "        self, \n",
    "        name: str, \n",
    "        birthdate: str,\n",
    "        account_number: str,\n",
    "        secret_code: str,\n",
    "        balance: float,\n",
    "    ) -> None:\n",
    "        \n",
    "        self.name = name\n",
    "        self.birthdate = birthdate\n",
    "        self.account_number = account_number\n",
    "        self.secret_code = secret_code\n",
    "        self.balance = balance"
   ]
  },
  {
   "cell_type": "markdown",
   "metadata": {},
   "source": [
    "### Question 1.2\n",
    "Add a method `debit` in the class `customer` which takes as an input a float and if there is enough money on the bank account, decreases the balance accordingly. If this is not the case, this method will print a warning message on the console and return `None`."
   ]
  },
  {
   "cell_type": "code",
   "execution_count": 2,
   "metadata": {},
   "outputs": [],
   "source": [
    "from typing import Optional\n",
    "\n",
    "def _debit(self, amount: float) -> Optional[float]:\n",
    "    if self.balance >= amount:\n",
    "        self.balance -= amount\n",
    "        return self.balance\n",
    "    else:\n",
    "        print(\"ERROR: Not enough money on account\")\n",
    "\n",
    "Customer.debit = _debit"
   ]
  },
  {
   "cell_type": "markdown",
   "metadata": {},
   "source": [
    "### Question 1.3\n",
    "Add a method `credit` to the class `customer` which can be used to increase the amount of money of the curstomer's account."
   ]
  },
  {
   "cell_type": "code",
   "execution_count": 3,
   "metadata": {},
   "outputs": [],
   "source": [
    "def _credit(self, amount: float) -> None:\n",
    "    self.balance += amount\n",
    "\n",
    "Customer.credit = _credit"
   ]
  },
  {
   "cell_type": "markdown",
   "metadata": {},
   "source": [
    "### Question 1.4\n",
    "In some context, one may be interested in displaying the pieces of information which characterize a given customer. To do so, we use a method named `__str__` and which is invoked when we call `print(str(x))` with `x` of type `customer`.\n",
    "Define this method to return strings of the following form:\n",
    "\n",
    "`Pierre Poljak, born on 2002/06/12, account 001213, 2504.25 EUR` "
   ]
  },
  {
   "cell_type": "code",
   "execution_count": 4,
   "metadata": {},
   "outputs": [],
   "source": [
    "def _customer_str(self) -> str:\n",
    "    return f\"{self.name}, born on {self.birthdate}, account {self.account_number}, {self.balance : .2f} EUR\"\n",
    "\n",
    "Customer.__str__ = _customer_str"
   ]
  },
  {
   "cell_type": "markdown",
   "metadata": {},
   "source": [
    "### Question 1.5\n",
    "We will now define an `ATM` class, whose attributes are:\n",
    " - a list of customers `lcustomers`\n",
    " - a number of 50-EUR bank notes `n50`\n",
    " - a number of 20-EUR bank notes `n20`\n",
    " - a number of 10-EUR bank notes `n10`\n",
    " \n",
    "together with an `__init__` method so that ATMs can be created."
   ]
  },
  {
   "cell_type": "code",
   "execution_count": 5,
   "metadata": {},
   "outputs": [],
   "source": [
    "from typing import List\n",
    "\n",
    "class ATM:\n",
    "    def __init__(\n",
    "        self,\n",
    "        lcustomers: List[Customer],\n",
    "        n50: int,\n",
    "        n20: int,\n",
    "        n10: int,\n",
    "    ) -> None:\n",
    "        self.lcustomers = lcustomers\n",
    "        self.n50 = n50\n",
    "        self.n20 = n20\n",
    "        self.n10 = n10"
   ]
  },
  {
   "cell_type": "markdown",
   "metadata": {},
   "source": [
    "### Question 1.6\n",
    "Add to the ATM class, a method `verify` which takes as an input an account number, and a secret code, and check (i) whether the account number is valid (that is, whether it appears among the customers), and (ii) whether the given secret code is identical to the secret code stored in the corresponding customer's pieces of information. This method returns `True` if the verification succeeds and `False` otherwise."
   ]
  },
  {
   "cell_type": "code",
   "execution_count": 6,
   "metadata": {},
   "outputs": [],
   "source": [
    "def _verify(\n",
    "    self, \n",
    "    account_number: str, \n",
    "    secret_code: str\n",
    ") -> bool:\n",
    "    for customer in self.lcustomers:\n",
    "        if account_number == customer.account_number:\n",
    "            return secret_code == customer.secret_code\n",
    "    return False\n",
    "\n",
    "ATM.verify = _verify"
   ]
  },
  {
   "cell_type": "markdown",
   "metadata": {},
   "source": [
    "### Question 1.7\n",
    "Define a method `change` which computes, for a given amount of money, the corresponding numbers of 10, 20 and 50 bank-notes."
   ]
  },
  {
   "cell_type": "code",
   "execution_count": 7,
   "metadata": {},
   "outputs": [],
   "source": [
    "from typing import Tuple\n",
    "\n",
    "def _change(self, amount: int) -> Tuple[int, int, int]:\n",
    "    change50 = min(amount // 50, self.n50)\n",
    "    amount -= change50 * 50\n",
    "    change20 = min(amount // 20, self.n20)\n",
    "    amount -= change20 * 20\n",
    "    change10 = min(amount // 10, self.n10)\n",
    "    amount -= change10 * 10\n",
    "    \n",
    "    if amount > 0: \n",
    "        raise ValueError(\"ERROR: Cannot pay given amount with banknotes currently in ATM\")\n",
    "    \n",
    "    return change50, change20, change10\n",
    "\n",
    "ATM.change = _change"
   ]
  },
  {
   "cell_type": "markdown",
   "metadata": {},
   "source": [
    "### Question 1.8\n",
    "Add to the ATM class, two methods named `debit` and `credit` which takes as inputs an account number and an amount of money, and applies the corresponding debit/credit (do not forget to check that there are enough bank notes in the ATM). These methods returns the new customer balance. "
   ]
  },
  {
   "cell_type": "code",
   "execution_count": 8,
   "metadata": {},
   "outputs": [],
   "source": [
    "def _debit(\n",
    "    self, \n",
    "    account_number: str, \n",
    "    amount: int,\n",
    ") -> None:\n",
    "    for customer in self.lcustomers:\n",
    "        if account_number == customer.account_number:\n",
    "            current_customer = customer\n",
    "    try:\n",
    "        change50, change20, change10 = self.change(amount)\n",
    "        if current_customer.debit(amount) is not None:\n",
    "            self.n50 -= change50\n",
    "            self.n20 -= change20\n",
    "            self.n10 -= change10\n",
    "            print(f\"Successfully withdrawn {amount} EUR from account No. {account_number}\")\n",
    "    except ValueError as error:\n",
    "        print(str(error))\n",
    "        \n",
    "def _credit(\n",
    "    self,\n",
    "    account_number: str,\n",
    "    amount50: int,\n",
    "    amount20: int,\n",
    "    amount10: int,\n",
    ") -> None:\n",
    "    for customer in self.lcustomers:\n",
    "        if account_number == customer.account_number:\n",
    "            current_customer = customer\n",
    "    current_customer.credit(amount50 * 50 + amount20 * 20 + amount10 * 10)\n",
    "    self.n50 += amount50\n",
    "    self.n20 += amount20\n",
    "    self.n10 += amount10\n",
    "    \n",
    "ATM.debit = _debit\n",
    "ATM.credit = _credit"
   ]
  },
  {
   "cell_type": "markdown",
   "metadata": {},
   "source": [
    "### Question 1.9\n",
    "Add to the ATM class a method `run` which execute an infinite loop, waiting for a user to enter an account number. When such a number is typed, it then asks for the secret code, and if it succeeds, it displays a menu allowing the user to either withdraw money or make a deposit. "
   ]
  },
  {
   "cell_type": "code",
   "execution_count": 9,
   "metadata": {},
   "outputs": [],
   "source": [
    "def _run(self):\n",
    "    while True:\n",
    "        print(f\"Please input your account number: \")\n",
    "        account_number = input()\n",
    "        print(f\"Please input your secret code: \")\n",
    "        secret_code = input()\n",
    "        if not self.verify(account_number, secret_code):\n",
    "            print(f\"ERROR: Account is not verified \")\n",
    "            continue\n",
    "        print(f\"To perform a money withdrawal type 1\\nTo put money on account type 2\\nTo quit type any other number\\n\")\n",
    "        action = int(input())\n",
    "        if action == 1:\n",
    "            print(f\"Enter the amount to withdraw (should be divisible by 10): \")\n",
    "            amount = int(input())\n",
    "            self.debit(account_number, amount)\n",
    "        elif action == 2:\n",
    "            print(f\"Enter amount of 50 EUR banknotes to put on account: \")\n",
    "            amount50 = int(input())\n",
    "            print(f\"Enter amount of 20 EUR banknotes to put on account: \")\n",
    "            amount20 = int(input())\n",
    "            print(f\"Enter amount of 10 EUR banknotes to put on account: \")\n",
    "            amount10 = int(input())\n",
    "            self.credit(account_number, amount50, amount20, amount10)\n",
    "        \n",
    "ATM.run = _run"
   ]
  },
  {
   "cell_type": "markdown",
   "metadata": {},
   "source": [
    "### Question 1.10\n",
    "Finally, run the following code (it should not trigger any error):"
   ]
  },
  {
   "cell_type": "code",
   "execution_count": 10,
   "metadata": {},
   "outputs": [
    {
     "name": "stdout",
     "output_type": "stream",
     "text": [
      "Welcome\n",
      "Please input your account number: \n",
      "Please input your secret code: \n",
      "ERROR: Account is not verified \n",
      "Please input your account number: \n",
      "Please input your secret code: \n",
      "ERROR: Account is not verified \n",
      "Please input your account number: \n",
      "Please input your secret code: \n",
      "ERROR: Account is not verified \n",
      "Please input your account number: \n",
      "Please input your secret code: \n",
      "ERROR: Account is not verified \n",
      "Please input your account number: \n",
      "Please input your secret code: \n",
      "ERROR: Account is not verified \n",
      "Please input your account number: \n",
      "Please input your secret code: \n",
      "ERROR: Account is not verified \n",
      "Please input your account number: \n",
      "Please input your secret code: \n",
      "ERROR: Account is not verified \n",
      "Please input your account number: \n"
     ]
    }
   ],
   "source": [
    "if __name__=='__main__':\n",
    "    print('Welcome')\n",
    "    customer1 = Customer('Pierre Poljak', '2002/06/12', '001213', '0000', 2504.25)\n",
    "    customer2 = Customer('Matthieu Poljak', '2006/03/18', '001214', '0110', 504.45)\n",
    "    customer3 = Customer('Louis Poljak', '1998/12/12', '001215', '0020', 20004.23)\n",
    "    customer4 = Customer('Sophie Poljak', '2000/02/02', '001216', '0200', 5502.00)\n",
    "    atm = ATM([customer1, customer2, customer3, customer4], 20, 20, 20)\n",
    "    atm.run()"
   ]
  },
  {
   "cell_type": "markdown",
   "metadata": {},
   "source": [
    "## Exercise 2\n",
    "In this exercise, we will use the `list` class provided by Python.\n",
    "First, let us check that lists are indeed classes:"
   ]
  },
  {
   "cell_type": "code",
   "execution_count": 1,
   "metadata": {},
   "outputs": [
    {
     "data": {
      "text/plain": [
       "list"
      ]
     },
     "execution_count": 1,
     "metadata": {},
     "output_type": "execute_result"
    }
   ],
   "source": [
    "l = [2,4,5]\n",
    "type(l)"
   ]
  },
  {
   "cell_type": "markdown",
   "metadata": {},
   "source": [
    "The `help` function permits us to list the methods available for using lists"
   ]
  },
  {
   "cell_type": "code",
   "execution_count": 2,
   "metadata": {},
   "outputs": [
    {
     "name": "stdout",
     "output_type": "stream",
     "text": [
      "Help on list object:\n",
      "\n",
      "class list(object)\n",
      " |  list(iterable=(), /)\n",
      " |  \n",
      " |  Built-in mutable sequence.\n",
      " |  \n",
      " |  If no argument is given, the constructor creates a new empty list.\n",
      " |  The argument must be an iterable if specified.\n",
      " |  \n",
      " |  Methods defined here:\n",
      " |  \n",
      " |  __add__(self, value, /)\n",
      " |      Return self+value.\n",
      " |  \n",
      " |  __contains__(self, key, /)\n",
      " |      Return key in self.\n",
      " |  \n",
      " |  __delitem__(self, key, /)\n",
      " |      Delete self[key].\n",
      " |  \n",
      " |  __eq__(self, value, /)\n",
      " |      Return self==value.\n",
      " |  \n",
      " |  __ge__(self, value, /)\n",
      " |      Return self>=value.\n",
      " |  \n",
      " |  __getattribute__(self, name, /)\n",
      " |      Return getattr(self, name).\n",
      " |  \n",
      " |  __getitem__(...)\n",
      " |      x.__getitem__(y) <==> x[y]\n",
      " |  \n",
      " |  __gt__(self, value, /)\n",
      " |      Return self>value.\n",
      " |  \n",
      " |  __iadd__(self, value, /)\n",
      " |      Implement self+=value.\n",
      " |  \n",
      " |  __imul__(self, value, /)\n",
      " |      Implement self*=value.\n",
      " |  \n",
      " |  __init__(self, /, *args, **kwargs)\n",
      " |      Initialize self.  See help(type(self)) for accurate signature.\n",
      " |  \n",
      " |  __iter__(self, /)\n",
      " |      Implement iter(self).\n",
      " |  \n",
      " |  __le__(self, value, /)\n",
      " |      Return self<=value.\n",
      " |  \n",
      " |  __len__(self, /)\n",
      " |      Return len(self).\n",
      " |  \n",
      " |  __lt__(self, value, /)\n",
      " |      Return self<value.\n",
      " |  \n",
      " |  __mul__(self, value, /)\n",
      " |      Return self*value.\n",
      " |  \n",
      " |  __ne__(self, value, /)\n",
      " |      Return self!=value.\n",
      " |  \n",
      " |  __repr__(self, /)\n",
      " |      Return repr(self).\n",
      " |  \n",
      " |  __reversed__(self, /)\n",
      " |      Return a reverse iterator over the list.\n",
      " |  \n",
      " |  __rmul__(self, value, /)\n",
      " |      Return value*self.\n",
      " |  \n",
      " |  __setitem__(self, key, value, /)\n",
      " |      Set self[key] to value.\n",
      " |  \n",
      " |  __sizeof__(self, /)\n",
      " |      Return the size of the list in memory, in bytes.\n",
      " |  \n",
      " |  append(self, object, /)\n",
      " |      Append object to the end of the list.\n",
      " |  \n",
      " |  clear(self, /)\n",
      " |      Remove all items from list.\n",
      " |  \n",
      " |  copy(self, /)\n",
      " |      Return a shallow copy of the list.\n",
      " |  \n",
      " |  count(self, value, /)\n",
      " |      Return number of occurrences of value.\n",
      " |  \n",
      " |  extend(self, iterable, /)\n",
      " |      Extend list by appending elements from the iterable.\n",
      " |  \n",
      " |  index(self, value, start=0, stop=9223372036854775807, /)\n",
      " |      Return first index of value.\n",
      " |      \n",
      " |      Raises ValueError if the value is not present.\n",
      " |  \n",
      " |  insert(self, index, object, /)\n",
      " |      Insert object before index.\n",
      " |  \n",
      " |  pop(self, index=-1, /)\n",
      " |      Remove and return item at index (default last).\n",
      " |      \n",
      " |      Raises IndexError if list is empty or index is out of range.\n",
      " |  \n",
      " |  remove(self, value, /)\n",
      " |      Remove first occurrence of value.\n",
      " |      \n",
      " |      Raises ValueError if the value is not present.\n",
      " |  \n",
      " |  reverse(self, /)\n",
      " |      Reverse *IN PLACE*.\n",
      " |  \n",
      " |  sort(self, /, *, key=None, reverse=False)\n",
      " |      Sort the list in ascending order and return None.\n",
      " |      \n",
      " |      The sort is in-place (i.e. the list itself is modified) and stable (i.e. the\n",
      " |      order of two equal elements is maintained).\n",
      " |      \n",
      " |      If a key function is given, apply it once to each list item and sort them,\n",
      " |      ascending or descending, according to their function values.\n",
      " |      \n",
      " |      The reverse flag can be set to sort in descending order.\n",
      " |  \n",
      " |  ----------------------------------------------------------------------\n",
      " |  Class methods defined here:\n",
      " |  \n",
      " |  __class_getitem__(...) from builtins.type\n",
      " |      See PEP 585\n",
      " |  \n",
      " |  ----------------------------------------------------------------------\n",
      " |  Static methods defined here:\n",
      " |  \n",
      " |  __new__(*args, **kwargs) from builtins.type\n",
      " |      Create and return a new object.  See help(type) for accurate signature.\n",
      " |  \n",
      " |  ----------------------------------------------------------------------\n",
      " |  Data and other attributes defined here:\n",
      " |  \n",
      " |  __hash__ = None\n",
      "\n"
     ]
    }
   ],
   "source": [
    "help(l)"
   ]
  },
  {
   "cell_type": "markdown",
   "metadata": {},
   "source": [
    "The list class will be used to implement a basic _calculator_, which can only compute the value of arithmetic expressions written in the [Reverse Polish Notation](https://en.wikipedia.org/wiki/Reverse_Polish_notation).\n",
    "For instance, it can compute the results of expressions such as \"3 2 + 5 *\" (which gives 25).\n",
    "\n",
    "To do this, it uses a stack. More precisely, it reads the expression from left to right, when a number is read, it goes onto the stack, when an operator is read, the two numbers of the top of the stack are retrieved, the elementary computation is done and the result is stored back onto the stack. When the expression has been processed, the result of the evaluation can be found on the top of the stack, as illustrated below:\n",
    "\n",
    "![rpn](images/NPI_stack.jpg)\n",
    "\n",
    "### Question 2.1\n",
    "Define a `stack` class which contains an attribute of type `list` named `l`, and the following methods:\n",
    "\n",
    "- `_init__` (which creates an empty stack)\n",
    "- `push` (which push some value onto the stack)\n",
    "- `pop` (which returns the value on the top of the stack and removes it from the stack)\n"
   ]
  },
  {
   "cell_type": "code",
   "execution_count": 3,
   "metadata": {},
   "outputs": [],
   "source": [
    "from typing import Any\n",
    "\n",
    "class stack:\n",
    "    def __init__(self) -> None:\n",
    "        self.l: list[Any] = []\n",
    "    \n",
    "    def push(self, obj: Any) -> None:\n",
    "        self.l.append(obj)\n",
    "    \n",
    "    def pop(self) -> Any:\n",
    "        if len(self.l) == 0: \n",
    "            return None\n",
    "        return self.l.pop()"
   ]
  },
  {
   "cell_type": "markdown",
   "metadata": {},
   "source": [
    "### Question 2.2\n",
    "Define a class `calculator` which contains an attribute `memory` of type `stack` together with the following methods:\n",
    "\n",
    "- `__init__` (which launches a calculator)\n",
    "- `eval` (which takes an arithmetic expression such as \"3 5 +\" as input and returns its value ; note that numbers and operators are separated by singles spaces)\n"
   ]
  },
  {
   "cell_type": "code",
   "execution_count": 4,
   "metadata": {},
   "outputs": [],
   "source": [
    "class calculator:\n",
    "    operators = {\n",
    "        '-': lambda x, y: x - y,\n",
    "        '+': lambda x, y: x + y,\n",
    "        '*': lambda x, y: x * y,\n",
    "        '/': lambda x, y: x / y,\n",
    "    }\n",
    "    \n",
    "    def __init__(self):\n",
    "        self.memory = stack()\n",
    "    \n",
    "    def eval(self, e: str) -> float:\n",
    "        tokens = e.split()\n",
    "        for token in tokens:\n",
    "            if token in calculator.operators:\n",
    "                right_operand = self.memory.pop()\n",
    "                left_operand = self.memory.pop()\n",
    "                self.memory.push(calculator.operators[token](left_operand, right_operand))\n",
    "            else:\n",
    "                self.memory.push(float(token))\n",
    "        return self.memory.pop()"
   ]
  },
  {
   "cell_type": "markdown",
   "metadata": {},
   "source": [
    "### Question 3.3\n",
    "Uncomment and run the code below:"
   ]
  },
  {
   "cell_type": "code",
   "execution_count": 6,
   "metadata": {},
   "outputs": [
    {
     "name": "stdout",
     "output_type": "stream",
     "text": [
      "21.0\n"
     ]
    }
   ],
   "source": [
    "if __name__=='__main__':\n",
    "    c = calculator()\n",
    "    e = input('Please enter an expression in Reverse Polish Notation:')\n",
    "    print(c.eval(e))\n",
    "    pass"
   ]
  }
 ],
 "metadata": {
  "kernelspec": {
   "display_name": "Python 3.10.0 64-bit",
   "language": "python",
   "name": "python3"
  },
  "language_info": {
   "codemirror_mode": {
    "name": "ipython",
    "version": 3
   },
   "file_extension": ".py",
   "mimetype": "text/x-python",
   "name": "python",
   "nbconvert_exporter": "python",
   "pygments_lexer": "ipython3",
   "version": "3.10.0"
  },
  "vscode": {
   "interpreter": {
    "hash": "8a533645f549c48c7dac9869b8ff2375a7df0e880a2be52bd25ff53503bd6b05"
   }
  }
 },
 "nbformat": 4,
 "nbformat_minor": 2
}
