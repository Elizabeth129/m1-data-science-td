{
 "cells": [
  {
   "cell_type": "markdown",
   "metadata": {},
   "source": [
    "# Exercise Sheet \\# 1"
   ]
  },
  {
   "cell_type": "markdown",
   "metadata": {},
   "source": [
    "## Exercise 1\n",
    "Let us consider a group of friends who organised a party together. Each one brought some food to the party. To make it fair, all these friends decided that they should spend equal money. Let us develop some python program to help them do the math.\n",
    "\n",
    "### Question 1.1\n",
    "As an example, consider these friends bought the following items (together with their total price):\n",
    "\n",
    "Emilie|Paul|Jacques|Eric\n",
    ":--|:--|:--|:--\n",
    "soda,3|juice,4|apples,3|bread,1\n",
    "camembert,5|chorizo,3|cookies,2|\n",
    "beaufort,6|spam,2|\n",
    "tomatoes,3|\n",
    "\n",
    "That is, Emilie spent 17 EUR, Paul 9 EUR, Jacques 5 EUR and Eric 1 EUR.\n",
    "\n",
    "How much money each of them would have paid if they had bought food together ? "
   ]
  },
  {
   "cell_type": "markdown",
   "metadata": {},
   "source": [
    "### Question 1.2\n",
    "Define 4 variables (`emilie`, `paul`, `jacques` and `eric`) containing the items each of them brought to the party.\n",
    "As a data structure for these variables, we will use a list of tuples."
   ]
  },
  {
   "cell_type": "code",
   "execution_count": 1,
   "metadata": {},
   "outputs": [],
   "source": [
    "emilie = [('soda', 3), ('camembert', 5), ('beaufort', 6), ('tomatoes', 3)]\n",
    "paul   = [('juice', 4), ('chorizo', 3), ('spam', 2)]\n",
    "jacques= [('apples', 3), ('cookies', 2)]\n",
    "eric   = [('bread', 1)]"
   ]
  },
  {
   "cell_type": "markdown",
   "metadata": {},
   "source": [
    "### Question 1.3\n",
    "Define a function `spent` which takes as an input a list of goods and returns their total price. "
   ]
  },
  {
   "cell_type": "code",
   "execution_count": 6,
   "metadata": {},
   "outputs": [],
   "source": [
    "def spent(goods):\n",
    "    total_price = 0\n",
    "    for good in goods:\n",
    "        total_price += good[1]\n",
    "    return total_price"
   ]
  },
  {
   "cell_type": "markdown",
   "metadata": {},
   "source": [
    "### Question 1.4\n",
    "What does `spent` returns when invoked with `paul` as a parameter ?"
   ]
  },
  {
   "cell_type": "code",
   "execution_count": 8,
   "metadata": {},
   "outputs": [
    {
     "data": {
      "text/plain": [
       "9"
      ]
     },
     "execution_count": 8,
     "metadata": {},
     "output_type": "execute_result"
    }
   ],
   "source": [
    "spent(paul)"
   ]
  },
  {
   "cell_type": "markdown",
   "metadata": {},
   "source": [
    "### Question 1.5\n",
    "Let us now define a variable `expenses` to encode all the expenses of the group. \n",
    "To do so, we will use a dictionary, which will associate each person (represented as a string) with her.his list of goods. "
   ]
  },
  {
   "cell_type": "code",
   "execution_count": 10,
   "metadata": {},
   "outputs": [],
   "source": [
    "expenses = {\"Emilie\" : emilie, \"Paul\" : paul, \"Jacques\" : jacques, \"Eric\" : eric}"
   ]
  },
  {
   "cell_type": "markdown",
   "metadata": {},
   "source": [
    "### Question 1.6\n",
    "Define a function `total` which computes, from a dictionary of expenses, the total amount of money spent."
   ]
  },
  {
   "cell_type": "code",
   "execution_count": 14,
   "metadata": {},
   "outputs": [],
   "source": [
    "def total(expenses):\n",
    "    total_expenses = 0\n",
    "    for elem in expenses.values():\n",
    "        total_expenses += spent(elem)\n",
    "    return total_expenses"
   ]
  },
  {
   "cell_type": "markdown",
   "metadata": {},
   "source": [
    "### Question 1.7\n",
    "What is the total amount of money spent by Emilie, Paul, Jacques and Eric ?"
   ]
  },
  {
   "cell_type": "code",
   "execution_count": 16,
   "metadata": {},
   "outputs": [
    {
     "data": {
      "text/plain": [
       "32"
      ]
     },
     "execution_count": 16,
     "metadata": {},
     "output_type": "execute_result"
    }
   ],
   "source": [
    "total(expenses)"
   ]
  },
  {
   "cell_type": "markdown",
   "metadata": {},
   "source": [
    "### Question 1.8\n",
    "Define a function `fair` which takes as an input a dictionary of expenses, and which returns a list of pairs _(person, money)_ indicating for each person, how much money she.he should pay (negative number) or receive (positive number)."
   ]
  },
  {
   "cell_type": "code",
   "execution_count": 23,
   "metadata": {},
   "outputs": [],
   "source": [
    "def fair(expenses):\n",
    "    spent_fair = total(expenses)/len(expenses)\n",
    "    for key, value in expenses.items():\n",
    "        yield (key, spent(value) - spent_fair)"
   ]
  },
  {
   "cell_type": "markdown",
   "metadata": {},
   "source": [
    "### Question 1.9\n",
    "What does `fair` returns when invoked with `expenses` as an input parameter ?"
   ]
  },
  {
   "cell_type": "code",
   "execution_count": 24,
   "metadata": {},
   "outputs": [
    {
     "data": {
      "text/plain": [
       "[('Emilie', 9.0), ('Paul', 1.0), ('Jacques', -3.0), ('Eric', -7.0)]"
      ]
     },
     "execution_count": 24,
     "metadata": {},
     "output_type": "execute_result"
    }
   ],
   "source": [
    "list(fair(expenses))"
   ]
  },
  {
   "cell_type": "markdown",
   "metadata": {},
   "source": [
    "## Exercise 2\n",
    "Let us consider recipies made of ingredients, which are sold in some shops. Recipies are python dictionary associating a recipy name with a preparation time, a cooking time and a difficulty score. Ingredients is a dictionary associating a name with a season (that is, when can these be found, for instance from May/5 til July/7). Shops finally is a dictionary associating a shop name with two booleans: one for indicating whether the shop is open on Sundays and one whether the shop only accepts cash.\n",
    "![diagram](https://mastertal.gitlab.io/UE803/notebooks/images/recipy.png)\n",
    "\n",
    "Examples of recipies include:\n",
    "<pre>recipies = { 'Kouglof' : (20, 20, 5), 'Banana Split' : (5, 0, 1), ... }</pre>\n",
    "Examples of ingredients include:\n",
    "<pre>ingredients = { 'strawberry' : (5, 7), 'flour' : (1, 12), ...}</pre>\n",
    "Examples of shops include:\n",
    "<pre>shops = { 'BuyOrganic' : (False , False), ...}</pre>\n",
    "The relations between a recipy and its ingredients are represented as follows:\n",
    "<pre>contains = [('Kouglof', 'flour'), ('Kouglof', 'sugar'), ...]</pre>\n",
    "and that between ingredients and shops:\n",
    "<pre> sold_in = [('flour', 'BuyOrganic'), ...]</pre>\n",
    "In the following questions, you are asked to define functions and to test them.\n",
    "\n",
    "To do so, define a dictionary containing 3 recipies, each one using 5 ingredients of your choices (they do not have to be real recipies :-) and make up 3 shops selling these ingredients."
   ]
  },
  {
   "cell_type": "code",
   "execution_count": 29,
   "metadata": {},
   "outputs": [],
   "source": [
    "recipies = {\n",
    "    \"Beef wellington\" : (20, 90, 8),\n",
    "    \"Pancakes\" : (10, 15, 2),\n",
    "    \"Pasta\" : (10, 15, 3)\n",
    "}\n",
    "ingredients = {\n",
    "    \"beef tenderloin\" : (1, 12),\n",
    "    \"mushrooms\" : (8, 11),\n",
    "    \"bacon\" : (1, 12),\n",
    "    \"dough\" : (1, 12),\n",
    "    \"egg\" : (1, 12),\n",
    "    \"flour\" : (1, 12),\n",
    "    \"banana\" : (6, 11),\n",
    "    \"yeast\" : (1, 12),\n",
    "    \"strawberries\": (5, 7),\n",
    "    \"spaghetti\": (1, 12),\n",
    "    \"salt\": (1,12)\n",
    "}\n",
    "shops = {\n",
    "    \"ATB\" : (False, True),\n",
    "    \"Auchan\" : (True, False),\n",
    "    \"Silpo\" : (True, False)\n",
    "}\n",
    "contains = [('Beef wellington', 'beef tenderloin'), ('Beef wellington', 'mushrooms'), ('Beef wellington', 'bacon'), \n",
    "            ('Beef wellington', 'dough'), ('Beef wellington','egg'),\n",
    "            ('Pancakes','egg'), ('Pancakes', 'flour'), ('Pancakes','banana'), ('Pancakes', 'yeast'), ('Pancakes', 'strawberries'),\n",
    "            ('Pasta', 'spaghetti'), ('Pasta', 'salt'), ('Pasta','mushrooms'), ('Pasta', 'bacon'), ('Pasta', 'egg')]\n",
    "sold_in = [('beef tenderloin', 'Silpo'), ('mushrooms', 'Auchan'), ('mushrooms', 'Silpo'), ('bacon', 'Silpo'), ('dough', 'Silpo'),\n",
    "            ('dough', 'Auchan'), ('egg', 'Silpo'), ('egg', 'ATB'), ('egg', 'Auchan'), ('flour', 'Auchan'), ('flour', 'ATB'),\n",
    "            ('banana', 'ATB'), ('banana', 'Silpo'), ('yeast', 'Auchan'), ('yeast','ATB'), ('strawberries', 'Silpo'),\n",
    "            ('spaghetti', 'ATB'), ('spaghetti', 'Auchan'), ('spaghetti', 'Silpo'), ('salt', 'ATB'), ('salt', 'Silpo')]"
   ]
  },
  {
   "cell_type": "markdown",
   "metadata": {},
   "source": [
    "### Question 2.1\n",
    "Define a function `in_recipy` which computes the list of recipies containing a given ingredient."
   ]
  },
  {
   "cell_type": "code",
   "execution_count": 30,
   "metadata": {},
   "outputs": [
    {
     "data": {
      "text/plain": [
       "['Beef wellington', 'Pasta']"
      ]
     },
     "execution_count": 30,
     "metadata": {},
     "output_type": "execute_result"
    }
   ],
   "source": [
    "def in_recipy(ingredient, containigs):\n",
    "    return [recipy for (recipy, ingred) in containigs if ingred == ingredient]\n",
    "\n",
    "in_recipy('bacon', contains)"
   ]
  },
  {
   "cell_type": "markdown",
   "metadata": {},
   "source": [
    "### Question 2.2\n",
    "Define a function `sold` which computes the list of shops where a given ingredient can be bought."
   ]
  },
  {
   "cell_type": "code",
   "execution_count": 31,
   "metadata": {},
   "outputs": [
    {
     "data": {
      "text/plain": [
       "['Silpo']"
      ]
     },
     "execution_count": 31,
     "metadata": {},
     "output_type": "execute_result"
    }
   ],
   "source": [
    "def sold(ingredient, sold_in_relation):\n",
    "    return [shop for (ingred, shop) in sold_in_relation if ingred == ingredient]\n",
    "\n",
    "sold('bacon', sold_in)"
   ]
  },
  {
   "cell_type": "markdown",
   "metadata": {},
   "source": [
    "### Question 2.3\n",
    "Define a function `sunday` which computes the list of ingredients which can be bought on a sunday. "
   ]
  },
  {
   "cell_type": "code",
   "execution_count": 32,
   "metadata": {},
   "outputs": [
    {
     "data": {
      "text/plain": [
       "['beef tenderloin',\n",
       " 'mushrooms',\n",
       " 'bacon',\n",
       " 'dough',\n",
       " 'egg',\n",
       " 'flour',\n",
       " 'banana',\n",
       " 'yeast',\n",
       " 'strawberries',\n",
       " 'spaghetti',\n",
       " 'salt']"
      ]
     },
     "execution_count": 32,
     "metadata": {},
     "output_type": "execute_result"
    }
   ],
   "source": [
    "def sunday(sold_in_relation):\n",
    "    result = []\n",
    "    for ingredient, shop in sold_in_relation:\n",
    "        if shops[shop][0] and ingredient not in result:\n",
    "            result.append(ingredient)\n",
    "    return result\n",
    "\n",
    "sunday(sold_in)"
   ]
  },
  {
   "cell_type": "markdown",
   "metadata": {},
   "source": [
    "### Question 2.4\n",
    "Define a function `convert` which turns a list of ingredients such as `contains` into a dictionary associating a recipy name with a list of ingredients. "
   ]
  },
  {
   "cell_type": "code",
   "execution_count": 33,
   "metadata": {},
   "outputs": [
    {
     "data": {
      "text/plain": [
       "{'Beef wellington': ['beef tenderloin', 'mushrooms', 'bacon', 'dough', 'egg'],\n",
       " 'Pancakes': ['egg', 'flour', 'banana', 'yeast', 'strawberries'],\n",
       " 'Pasta': ['spaghetti', 'salt', 'mushrooms', 'bacon', 'egg']}"
      ]
     },
     "execution_count": 33,
     "metadata": {},
     "output_type": "execute_result"
    }
   ],
   "source": [
    "def convert(contanings):\n",
    "    result = {}\n",
    "    for recipy, ingredient in contanings:\n",
    "        if (recipy in result):\n",
    "            result[recipy].append(ingredient)\n",
    "        else:\n",
    "            result[recipy] = [ingredient]\n",
    "    return result\n",
    "\n",
    "convert(contains)"
   ]
  },
  {
   "cell_type": "markdown",
   "metadata": {},
   "source": [
    "### Question 2.5\n",
    "Define a function `this_month` which computes the list of recipies which can be cooked on a given month."
   ]
  },
  {
   "cell_type": "code",
   "execution_count": 35,
   "metadata": {},
   "outputs": [
    {
     "data": {
      "text/plain": [
       "'Pasta'"
      ]
     },
     "execution_count": 35,
     "metadata": {},
     "output_type": "execute_result"
    }
   ],
   "source": [
    "def this_month(month, converted_recipies, ingredients):\n",
    "    result =[]\n",
    "    for recipies in converted_recipies:\n",
    "        available = True\n",
    "        for i in range(0, len(converted_recipies[recipies])):\n",
    "            if (ingredients[converted_recipies[recipies][i]][0] > month or ingredients[converted_recipies[recipies][i]][1] < month):\n",
    "                available = False\n",
    "        if available:\n",
    "            result.append(recipies)\n",
    "    return recipies\n",
    "\n",
    "this_month(5, convert(contains), ingredients)"
   ]
  }
 ],
 "metadata": {
  "kernelspec": {
   "display_name": "Python 3.10.0 64-bit",
   "language": "python",
   "name": "python3"
  },
  "language_info": {
   "codemirror_mode": {
    "name": "ipython",
    "version": 3
   },
   "file_extension": ".py",
   "mimetype": "text/x-python",
   "name": "python",
   "nbconvert_exporter": "python",
   "pygments_lexer": "ipython3",
   "version": "3.10.0"
  },
  "vscode": {
   "interpreter": {
    "hash": "8a533645f549c48c7dac9869b8ff2375a7df0e880a2be52bd25ff53503bd6b05"
   }
  }
 },
 "nbformat": 4,
 "nbformat_minor": 2
}
